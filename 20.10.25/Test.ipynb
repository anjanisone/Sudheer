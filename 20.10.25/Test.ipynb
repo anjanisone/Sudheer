{
 "cells": [
  {
   "cell_type": "code",
   "execution_count": null,
   "id": "c853e618",
   "metadata": {},
   "outputs": [],
   "source": [
    "def clean_all_date_fields(df, columns):\n",
    "    from datetime import datetime\n",
    "    from pyspark.sql import functions as F\n",
    "\n",
    "    spark = df.sparkSession\n",
    "    spark.conf.set(\"spark.sql.legacy.timeParserPolicy\", \"LEGACY\")\n",
    "    spark.conf.set(\"spark.sql.ansi.enabled\", \"false\")\n",
    "\n",
    "    now = datetime.now()\n",
    "    current_year = now.year\n",
    "    min_year = 1900\n",
    "    invalid_values = [\"null\", \"none\", \"n/a\", \"missing\", \"not null\", \"\", \"na\"]\n",
    "\n",
    "    if isinstance(columns, str):\n",
    "        columns = [columns]\n",
    "\n",
    "    for c in columns:\n",
    "        if c not in df.columns:\n",
    "            continue\n",
    "\n",
    "        df = (\n",
    "            df.withColumn(c, F.col(c).cast(\"string\"))\n",
    "              .withColumn(c, F.trim(F.col(c)))\n",
    "              .withColumn(c, F.regexp_replace(F.col(c), \"[–—−]\", \"-\"))\n",
    "              .withColumn(c, F.upper(F.col(c)))\n",
    "              .withColumn(c, F.when(F.col(c).isin(invalid_values), None).otherwise(F.col(c)))\n",
    "        )\n",
    "\n",
    "        # non-throwing coalesce chain (only to_date / to_timestamp)\n",
    "        parsed = F.coalesce(\n",
    "            F.to_date(F.col(c), \"yyyy-MM-dd\"),\n",
    "            F.to_date(F.col(c), \"yyyy/MM/dd\"),\n",
    "            F.to_date(F.col(c), \"MM/dd/yyyy\"),\n",
    "            F.to_date(F.col(c), \"dd-MM-yyyy\"),\n",
    "            F.to_date(F.col(c), \"dd/MM/yyyy\"),\n",
    "            F.to_date(F.col(c), \"yyyyMMdd\"),\n",
    "            F.to_date(F.col(c), \"MMM dd, yyyy\"),\n",
    "            F.to_date(F.col(c), \"MMMM dd, yyyy\"),\n",
    "            F.to_date(F.col(c), \"dd-MMM-yyyy\"),\n",
    "            F.to_date(F.col(c), \"dd-MMMM-yyyy\"),\n",
    "            F.to_date(F.col(c), \"dd-MMM-yy\"),\n",
    "            F.to_date(F.col(c), \"MMM dd, yy\"),\n",
    "            F.to_date(F.col(c), \"MM/dd/yy\"),\n",
    "            F.to_date(F.col(c), \"M/d/yy\"),\n",
    "            F.to_timestamp(F.col(c), \"M/d/yy h:mm a\"),\n",
    "            F.to_timestamp(F.col(c), \"MM/dd/yy h:mm a\"),\n",
    "            F.to_timestamp(F.col(c), \"M/d/yyyy h:mm a\")\n",
    "        )\n",
    "\n",
    "        df = df.withColumn(c, parsed)\n",
    "        df = df.withColumn(\n",
    "            c,\n",
    "            F.when((F.year(F.col(c)) < min_year) | (F.year(F.col(c)) > current_year), None)\n",
    "             .otherwise(F.col(c))\n",
    "        )\n",
    "        df = df.withColumn(c, F.date_format(F.col(c), \"yyyy-MM-dd\"))\n",
    "\n",
    "    return df"
   ]
  },
  {
   "cell_type": "code",
   "execution_count": 2,
   "id": "9acf49ab",
   "metadata": {},
   "outputs": [
    {
     "name": "stderr",
     "output_type": "stream",
     "text": [
      "WARNING: Using incubator modules: jdk.incubator.vector\n",
      "Using Spark's default log4j profile: org/apache/spark/log4j2-defaults.properties\n",
      "25/10/21 19:00:00 WARN Utils: Your hostname, Prasannas-MacBook-Pro.local, resolves to a loopback address: 127.0.0.1; using 192.168.68.109 instead (on interface en0)\n",
      "25/10/21 19:00:00 WARN Utils: Set SPARK_LOCAL_IP if you need to bind to another address\n",
      "Using Spark's default log4j profile: org/apache/spark/log4j2-defaults.properties\n",
      "Setting default log level to \"WARN\".\n",
      "To adjust logging level use sc.setLogLevel(newLevel). For SparkR, use setLogLevel(newLevel).\n",
      "25/10/21 19:00:01 WARN NativeCodeLoader: Unable to load native-hadoop library for your platform... using builtin-java classes where applicable\n",
      "                                                                                \r"
     ]
    },
    {
     "name": "stdout",
     "output_type": "stream",
     "text": [
      "+----------+-----------------+\n",
      "|first_name|DOB              |\n",
      "+----------+-----------------+\n",
      "|Amy       |1-1-1823         |\n",
      "|andrew    |10-Aug-22        |\n",
      "|greg      |null             |\n",
      "|harry     |2001-09-03       |\n",
      "|hulk      |20230806         |\n",
      "|jack      |1/1/1823         |\n",
      "|jones     |20-Jul-2000      |\n",
      "|Lisa      |2/29/2023        |\n",
      "|parker    |invalid          |\n",
      "|sam       |1/1/23 12:00 AM  |\n",
      "|Sean      |na               |\n",
      "|sia       |September 4, 2000|\n",
      "|sid       |20-July-2000     |\n",
      "|William   |8/1/23 12:00 PM  |\n",
      "+----------+-----------------+\n",
      "\n"
     ]
    }
   ],
   "source": [
    "from pyspark.sql import SparkSession\n",
    "\n",
    "spark = (\n",
    "    SparkSession.builder\n",
    "    .appName(\"DOB_Test\")\n",
    "    .config(\"spark.sql.legacy.timeParserPolicy\", \"LEGACY\")\n",
    "    .getOrCreate()\n",
    ")\n",
    "data = [\n",
    "    (\"Amy\", \"1-1-1823\"),\n",
    "    (\"andrew\", \"10-Aug-22\"),\n",
    "    (\"greg\", \"null\"),\n",
    "    (\"harry\", \"2001-09-03\"),\n",
    "    (\"hulk\", \"20230806\"),\n",
    "    (\"jack\", \"1/1/1823\"),\n",
    "    (\"jones\", \"20-Jul-2000\"),\n",
    "    (\"Lisa\", \"2/29/2023\"),\n",
    "    (\"parker\", \"invalid\"),\n",
    "    (\"sam\", \"1/1/23 12:00 AM\"),\n",
    "    (\"Sean\", \"na\"),\n",
    "    (\"sia\", \"September 4, 2000\"),\n",
    "    (\"sid\", \"20-July-2000\"),\n",
    "    (\"William\", \"8/1/23 12:00 PM\")\n",
    "]\n",
    "\n",
    "columns = [\"first_name\", \"DOB\"]\n",
    "\n",
    "df = spark.createDataFrame(data, columns)\n",
    "df.show(truncate=False)"
   ]
  },
  {
   "cell_type": "code",
   "execution_count": 3,
   "id": "465c344d",
   "metadata": {},
   "outputs": [],
   "source": [
    "cleaned_df = clean_all_date_fields(df, \"DOB\")"
   ]
  },
  {
   "cell_type": "code",
   "execution_count": 4,
   "id": "7d9ce6e6",
   "metadata": {},
   "outputs": [
    {
     "name": "stderr",
     "output_type": "stream",
     "text": [
      "                                                                                \r"
     ]
    },
    {
     "name": "stdout",
     "output_type": "stream",
     "text": [
      "+----------+----------+\n",
      "|first_name|       DOB|\n",
      "+----------+----------+\n",
      "|       Amy|      NULL|\n",
      "|    andrew|      NULL|\n",
      "|      greg|      NULL|\n",
      "|     harry|2001-09-03|\n",
      "|      hulk|2023-08-06|\n",
      "|      jack|      NULL|\n",
      "|     jones|      NULL|\n",
      "|      Lisa|      NULL|\n",
      "|    parker|      NULL|\n",
      "|       sam|      NULL|\n",
      "|      Sean|      NULL|\n",
      "|       sia|2000-09-04|\n",
      "|       sid|      NULL|\n",
      "|   William|      NULL|\n",
      "+----------+----------+\n",
      "\n"
     ]
    }
   ],
   "source": [
    "cleaned_df.show()"
   ]
  },
  {
   "cell_type": "code",
   "execution_count": null,
   "id": "bd412b64",
   "metadata": {},
   "outputs": [],
   "source": []
  }
 ],
 "metadata": {
  "kernelspec": {
   "display_name": "supports",
   "language": "python",
   "name": "python3"
  },
  "language_info": {
   "codemirror_mode": {
    "name": "ipython",
    "version": 3
   },
   "file_extension": ".py",
   "mimetype": "text/x-python",
   "name": "python",
   "nbconvert_exporter": "python",
   "pygments_lexer": "ipython3",
   "version": "3.10.18"
  }
 },
 "nbformat": 4,
 "nbformat_minor": 5
}
